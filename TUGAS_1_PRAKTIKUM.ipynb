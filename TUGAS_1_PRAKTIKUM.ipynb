{
  "nbformat": 4,
  "nbformat_minor": 0,
  "metadata": {
    "colab": {
      "provenance": [],
      "authorship_tag": "ABX9TyOGSLq+ghwNyWmrf/YO5YWD",
      "include_colab_link": true
    },
    "kernelspec": {
      "name": "python3",
      "display_name": "Python 3"
    },
    "language_info": {
      "name": "python"
    }
  },
  "cells": [
    {
      "cell_type": "markdown",
      "metadata": {
        "id": "view-in-github",
        "colab_type": "text"
      },
      "source": [
        "<a href=\"https://colab.research.google.com/github/dinnuhoni23/Mini-Project-Data-Mining/blob/main/TUGAS_1_PRAKTIKUM.ipynb\" target=\"_parent\"><img src=\"https://colab.research.google.com/assets/colab-badge.svg\" alt=\"Open In Colab\"/></a>"
      ]
    },
    {
      "cell_type": "markdown",
      "source": [
        "# **Luxury Watches Price Dataset / Dataset Harga Jam Tangan Mewah**\n",
        "\n",
        "## **Business Understanding**\n",
        "\n",
        "### 1.\t*Businesses Objective* (Tujuan atau Sasaran Bisnis)\n",
        "Dataset ini untuk meningkatkan kinerja bisnis dalam industri jam tangan mewah. Analisis data tesebut bertujuan untuk memahami preferensi dan perilaku pelanggan jam tangan mewah lebih baik, sehingga dapat meningkatkan penjualan dan pendapatan bagi retailer (pengecer). Dengan pemahaman yang lebih baik mengenai tren pasar dan kebutuhan pelanggan, bisnis dapat menyesuaikan strategi pemasaran dan penjualan secara lebih efektif, serta memberikan pengalaman pelanggan yang lebih memuaskan. Selain itu, dengan memanfaatkan data untuk memprediksi permintaan dan mengoptimalkan manajemen persediaan, bisnis dapat mengurangi risiko kelebihan atau kekurangan stok, serta meningkatkan efisiensi operasional secara keseluruhan. Dengan demikian, penggunaan dataset ini bertujuan untuk meningkatkan daya saing dan pertumbuhan bisnis dalam industri jam tangan mewah.\n",
        "\n",
        "### 2.\t*Assess Situation* (Penilaian Situasi)\n",
        "Data tersebut memberikan gambaran yang komprehensif tentang berbagai model jam tangan mewah dari berbagai merek terkenal seperti Rolex, Omega, Tag Heuer, dan lainnya. Setiap entri dalam dataset mencakup informasi detail tentang spesifikasi teknis, seperti bahan kasus, tali, dan kristal, serta fitur-fitur tambahan seperti komplikasi dan daya cadangan. Dengan keberagaman merek dan model yang tersedia, dataset ini menawarkan peluang besar untuk menganalisis tren pasar, preferensi pelanggan, dan faktor-faktor lain yang memengaruhi pasar jam tangan mewah.\n",
        "\n",
        "### 3.\t*Data Mining Goals* (Tujuan atu Sasaran dari Penggalian Data)\n",
        "Dengan dataset yang diberikan, dapat dilakukan berbagai analisis data mining untuk mendapatkan wawasan yang berharga dalam industri jam tangan mewah. Pertama, dapat dilakukan segmentasi pelanggan berdasarkan preferensi terhadap beberapa kelompok seperti harga, bahan jam tangan, tipe movement, dan lainnya. Hal tersebut dapat membantu dan mengidentifikasi kelompok pelanggan yang berbeda dan merancang strategi pemasaran yang lebih menyudut.\n",
        "Kemudian, analisis harga dapat dilakukan untuk memahami faktor-faktor apa yang memengaruhi harga jam tangan mewah, seperti bahan jam tangan, jenis movement, dan fitur tambahan, merek jam tangan. Prediksi permintaan dari pelanggan pun dapat dilakukan dengan menggunakan data historis tentang penjualan dan atribut jam tangan untuk membantu manajemen persediaan yang lebih efisien. Analisis preferensi pelanggan akan membantu dalam memahami tren dan preferensi pasar yang mendasari, sementara deteksi anomali akan membantu dalam mengidentifikasi masalah potensial dalam proses penjualan atau kualitas data.\n",
        "Terakhir, dengan menggunakan teknik rekomendasi, dapat memberikan rekomendasi produk yang dipersonalisasi kepada pelanggan potensial berdasarkan preferensi pelanggan dan atribut jam tangan. Dengan melakukan berbagai analisis data mining ini, dapat diperoleh wawasan yang berharga untuk membantu pengambilan keputusan bisnis yang lebih baik dan strategi yang lebih efektif dalam industri jam tangan mewah.\n",
        "\n",
        "### 4.\t*Project Plan* (Rencana Proyek)\n",
        "Rencana proyek yang akan dilaksanakan bertujuan untuk memahami preferensi pelanggan dalam industri jam tangan mewah, langkah-langkah proyek dapat difokuskan pada analisis yang bertujuan untuk mengidentifikasi tren dan pola pembelian pelanggan. Pertama, analisis segmentasi pelanggan dapat dilakukan untuk mengelompokkan pelanggan berdasarkan preferensi mereka terhadap atribut-atribut jam tangan, seperti merek, bahan kasus, tipe movement, dan fitur tambahan. Selanjutnya, analisis asosiasi dapat digunakan untuk menemukan hubungan antara berbagai atribut, seperti hubungan antara merek, bahan, dan jenis movement yang paling disukai oleh pelanggan. Analisis klastering juga dapat membantu dalam mengidentifikasi kelompok pelanggan dengan preferensi yang serupa. Selain itu, analisis sentimen dapat dilakukan untuk menganalisis umpan balik pelanggan terhadap merek dan model tertentu, yang dapat memberikan wawasan tambahan tentang preferensi mereka. Dengan demikian, melalui berbagai analisis ini, tujuan proyek ini adalah untuk mendapatkan pemahaman yang lebih mendalam tentang preferensi pelanggan dalam industri jam tangan mewah, yang dapat digunakan untuk mengarahkan strategi pemasaran, pengembangan produk, dan upaya penjualan yang lebih efektif.\n",
        "\n",
        "\n"
      ],
      "metadata": {
        "id": "6cxbF6kUaQpI"
      }
    }
  ]
}